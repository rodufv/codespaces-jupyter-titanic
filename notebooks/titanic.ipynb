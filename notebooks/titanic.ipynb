{
 "cells": [
  {
   "cell_type": "code",
   "execution_count": 20,
   "metadata": {},
   "outputs": [
    {
     "name": "stdout",
     "output_type": "stream",
     "text": [
      "Collecting optuna\n",
      "  Downloading optuna-3.4.0-py3-none-any.whl.metadata (17 kB)\n",
      "Collecting alembic>=1.5.0 (from optuna)\n",
      "  Downloading alembic-1.12.1-py3-none-any.whl.metadata (7.3 kB)\n",
      "Collecting colorlog (from optuna)\n",
      "  Downloading colorlog-6.7.0-py2.py3-none-any.whl (11 kB)\n",
      "Requirement already satisfied: numpy in /usr/local/python/3.10.8/lib/python3.10/site-packages (from optuna) (1.24.2)\n",
      "Requirement already satisfied: packaging>=20.0 in /home/codespace/.local/lib/python3.10/site-packages (from optuna) (23.2)\n",
      "Collecting sqlalchemy>=1.3.0 (from optuna)\n",
      "  Downloading SQLAlchemy-2.0.23-cp310-cp310-manylinux_2_17_x86_64.manylinux2014_x86_64.whl.metadata (9.6 kB)\n",
      "Requirement already satisfied: tqdm in /usr/local/python/3.10.8/lib/python3.10/site-packages (from optuna) (4.64.0)\n",
      "Requirement already satisfied: PyYAML in /home/codespace/.local/lib/python3.10/site-packages (from optuna) (6.0.1)\n",
      "Collecting Mako (from alembic>=1.5.0->optuna)\n",
      "  Downloading Mako-1.2.4-py3-none-any.whl (78 kB)\n",
      "\u001b[2K     \u001b[90m━━━━━━━━━━━━━━━━━━━━━━━━━━━━━━━━━━━━━━━━\u001b[0m \u001b[32m78.7/78.7 kB\u001b[0m \u001b[31m1.8 MB/s\u001b[0m eta \u001b[36m0:00:00\u001b[0mta \u001b[36m0:00:01\u001b[0m\n",
      "\u001b[?25hRequirement already satisfied: typing-extensions>=4 in /home/codespace/.local/lib/python3.10/site-packages (from alembic>=1.5.0->optuna) (4.8.0)\n",
      "Collecting greenlet!=0.4.17 (from sqlalchemy>=1.3.0->optuna)\n",
      "  Downloading greenlet-3.0.1-cp310-cp310-manylinux_2_24_x86_64.manylinux_2_28_x86_64.whl.metadata (3.7 kB)\n",
      "Requirement already satisfied: MarkupSafe>=0.9.2 in /home/codespace/.local/lib/python3.10/site-packages (from Mako->alembic>=1.5.0->optuna) (2.1.3)\n",
      "Downloading optuna-3.4.0-py3-none-any.whl (409 kB)\n",
      "\u001b[2K   \u001b[90m━━━━━━━━━━━━━━━━━━━━━━━━━━━━━━━━━━━━━━━━\u001b[0m \u001b[32m409.6/409.6 kB\u001b[0m \u001b[31m9.2 MB/s\u001b[0m eta \u001b[36m0:00:00\u001b[0m:00:01\u001b[0m\n",
      "\u001b[?25hDownloading alembic-1.12.1-py3-none-any.whl (226 kB)\n",
      "\u001b[2K   \u001b[90m━━━━━━━━━━━━━━━━━━━━━━━━━━━━━━━━━━━━━━━━\u001b[0m \u001b[32m226.8/226.8 kB\u001b[0m \u001b[31m5.3 MB/s\u001b[0m eta \u001b[36m0:00:00\u001b[0m:00:01\u001b[0m\n",
      "\u001b[?25hDownloading SQLAlchemy-2.0.23-cp310-cp310-manylinux_2_17_x86_64.manylinux2014_x86_64.whl (3.0 MB)\n",
      "\u001b[2K   \u001b[90m━━━━━━━━━━━━━━━━━━━━━━━━━━━━━━━━━━━━━━━━\u001b[0m \u001b[32m3.0/3.0 MB\u001b[0m \u001b[31m37.9 MB/s\u001b[0m eta \u001b[36m0:00:00\u001b[0m:00:01\u001b[0m\n",
      "\u001b[?25hDownloading greenlet-3.0.1-cp310-cp310-manylinux_2_24_x86_64.manylinux_2_28_x86_64.whl (613 kB)\n",
      "\u001b[2K   \u001b[90m━━━━━━━━━━━━━━━━━━━━━━━━━━━━━━━━━━━━━━━━\u001b[0m \u001b[32m613.2/613.2 kB\u001b[0m \u001b[31m13.8 MB/s\u001b[0m eta \u001b[36m0:00:00\u001b[0m00:01\u001b[0m\n",
      "\u001b[?25hInstalling collected packages: Mako, greenlet, colorlog, sqlalchemy, alembic, optuna\n",
      "Successfully installed Mako-1.2.4 alembic-1.12.1 colorlog-6.7.0 greenlet-3.0.1 optuna-3.4.0 sqlalchemy-2.0.23\n"
     ]
    }
   ],
   "source": [
    "!pip install optuna"
   ]
  },
  {
   "cell_type": "code",
   "execution_count": 21,
   "metadata": {},
   "outputs": [],
   "source": [
    "import optuna\n",
    "from sklearn.model_selection import cross_val_score\n",
    "from sklearn.ensemble import RandomForestClassifier\n",
    "import pandas as pd\n",
    "import numpy as np\n",
    "from sklearn.linear_model import LogisticRegression\n",
    "from sklearn.model_selection import cross_val_score\n",
    "from sklearn.metrics import confusion_matrix\n",
    "from sklearn.preprocessing import StandardScaler"
   ]
  },
  {
   "cell_type": "code",
   "execution_count": 5,
   "metadata": {},
   "outputs": [],
   "source": [
    "## abrir o datase de treino e test\n",
    "train = pd.read_csv('../data/train.csv')\n",
    "test = pd.read_csv('../data/test.csv')"
   ]
  },
  {
   "cell_type": "code",
   "execution_count": 6,
   "metadata": {},
   "outputs": [
    {
     "name": "stdout",
     "output_type": "stream",
     "text": [
      "<class 'pandas.core.frame.DataFrame'>\n",
      "RangeIndex: 891 entries, 0 to 890\n",
      "Data columns (total 12 columns):\n",
      " #   Column       Non-Null Count  Dtype  \n",
      "---  ------       --------------  -----  \n",
      " 0   PassengerId  891 non-null    int64  \n",
      " 1   Survived     891 non-null    int64  \n",
      " 2   Pclass       891 non-null    int64  \n",
      " 3   Name         891 non-null    object \n",
      " 4   Sex          891 non-null    object \n",
      " 5   Age          714 non-null    float64\n",
      " 6   SibSp        891 non-null    int64  \n",
      " 7   Parch        891 non-null    int64  \n",
      " 8   Ticket       891 non-null    object \n",
      " 9   Fare         891 non-null    float64\n",
      " 10  Cabin        204 non-null    object \n",
      " 11  Embarked     889 non-null    object \n",
      "dtypes: float64(2), int64(5), object(5)\n",
      "memory usage: 83.7+ KB\n",
      "None\n",
      "PassengerId      0\n",
      "Survived         0\n",
      "Pclass           0\n",
      "Name             0\n",
      "Sex              0\n",
      "Age            177\n",
      "SibSp            0\n",
      "Parch            0\n",
      "Ticket           0\n",
      "Fare             0\n",
      "Cabin          687\n",
      "Embarked         2\n",
      "dtype: int64\n",
      "PassengerId      0\n",
      "Pclass           0\n",
      "Name             0\n",
      "Sex              0\n",
      "Age             86\n",
      "SibSp            0\n",
      "Parch            0\n",
      "Ticket           0\n",
      "Fare             1\n",
      "Cabin          327\n",
      "Embarked         0\n",
      "dtype: int64\n"
     ]
    }
   ],
   "source": [
    "## pre-processamento dos dados\n",
    "#descrição estátistica das features núméricas\n",
    "est = train.describe()\n",
    "\n",
    "print(train.info())\n",
    "\n",
    "#verificar valores nulos ou NAN\n",
    "print(train.isnull().sum())\n",
    "\n",
    "print(test.isnull().sum())"
   ]
  },
  {
   "cell_type": "code",
   "execution_count": 8,
   "metadata": {},
   "outputs": [],
   "source": [
    "# mapear as colunas\n",
    "col = pd.Series(list(train.columns))\n",
    "\n",
    "X_train = train.drop(['PassengerId', 'Survived'], axis = 1)\n",
    "\n",
    "X_test = test.drop(['PassengerId'], axis = 1)"
   ]
  },
  {
   "cell_type": "code",
   "execution_count": 9,
   "metadata": {},
   "outputs": [],
   "source": [
    "# criar feature\n",
    "\n",
    "def criar_features(X):\n",
    "  subs = {'female':1, 'male':0}\n",
    "  X['mulher'] = X['Sex'].replace(subs)\n",
    "  \n",
    "  X['Fare'] = X['Fare'].fillna(X['Fare'].mean())\n",
    "  \n",
    "  X['Age'] = X['Age'].fillna(X['Age'].mean())\n",
    "  \n",
    "  X['Embarked'] = X['Embarked'].fillna('S')\n",
    "  \n",
    "  subs = {'S':1, 'C':2, 'Q':3}\n",
    "  X['porto'] = X['Embarked'].replace(subs)\n",
    "  \n",
    "  X['crianca'] = 1\n",
    "  X['crianca'] = np.where(X['Age'] < 12, 1, 0)\n",
    "  \n",
    "  return X\n",
    "\n",
    "X_train = criar_features(X_train)\n",
    "X_test = criar_features(X_test)"
   ]
  },
  {
   "cell_type": "code",
   "execution_count": 10,
   "metadata": {},
   "outputs": [],
   "source": [
    "#Selecionar as features\n",
    "features = ['Pclass', 'Age', 'SibSp',\n",
    "       'Parch', 'Fare', 'mulher', 'porto', 'crianca']\n",
    "\n",
    "X_train = X_train[features]\n",
    "X_test = X_test[features]\n",
    "\n",
    "y_train = train['Survived']"
   ]
  },
  {
   "cell_type": "code",
   "execution_count": 12,
   "metadata": {},
   "outputs": [],
   "source": [
    "gp = train.groupby(['Survived']).count()\n",
    "\n",
    "#%% pivot_table\n",
    "\n",
    "table = pd.pivot_table(train, index = ['Survived'], columns = ['Pclass'], values = 'PassengerId', aggfunc = 'count')\n",
    "\n",
    "\n",
    "#%% Padronização das variáveis\n",
    "\n",
    "scaler = StandardScaler() #media 0 e desvio padrão 1\n",
    "\n",
    "X_train_sc = scaler.fit_transform(X_train)\n",
    "\n",
    "X_test_sc = scaler.transform(X_test)"
   ]
  },
  {
   "cell_type": "code",
   "execution_count": 13,
   "metadata": {},
   "outputs": [
    {
     "name": "stdout",
     "output_type": "stream",
     "text": [
      "0.8058302122347065\n",
      "0.8036079900124845\n"
     ]
    }
   ],
   "source": [
    "# modelo e validação cruzada\n",
    "\n",
    "#Logistic Regression\n",
    "model_lr = LogisticRegression (random_state= 0 )\n",
    "\n",
    "score = cross_val_score(model_lr, X_train_sc, y_train, cv = 10)\n",
    "\n",
    "print(np.mean(score))\n",
    "\n",
    "#%% Naive Bayes para Classificação\n",
    "\n",
    "from sklearn.naive_bayes import GaussianNB\n",
    "\n",
    "model_nb = GaussianNB()\n",
    "\n",
    "score = cross_val_score(model_nb, X_train_sc, y_train, cv = 10)\n",
    "\n",
    "print(np.mean(score))"
   ]
  },
  {
   "cell_type": "code",
   "execution_count": 14,
   "metadata": {},
   "outputs": [
    {
     "name": "stdout",
     "output_type": "stream",
     "text": [
      "0.811498127340824\n"
     ]
    }
   ],
   "source": [
    "#%% KNN para classificação\n",
    "from sklearn.neighbors import KNeighborsClassifier\n",
    "\n",
    "model_knn = KNeighborsClassifier(n_neighbors= 5, p = 2)\n",
    "\n",
    "score = cross_val_score(model_knn, X_train_sc, y_train, cv = 10)\n",
    "\n",
    "print(np.mean(score))"
   ]
  },
  {
   "cell_type": "code",
   "execution_count": 15,
   "metadata": {},
   "outputs": [
    {
     "name": "stdout",
     "output_type": "stream",
     "text": [
      "0.8316479400749064\n"
     ]
    }
   ],
   "source": [
    "#%% SVM para classificação\n",
    "from sklearn.svm import SVC\n",
    "\n",
    "model_svc = SVC(C = 3, kernel = 'rbf', degree = 2, gamma = 0.1)\n",
    "\n",
    "score = cross_val_score(model_svc, X_train_sc, y_train, cv = 10)\n",
    "\n",
    "print(np.mean(score))"
   ]
  },
  {
   "cell_type": "code",
   "execution_count": 16,
   "metadata": {},
   "outputs": [
    {
     "name": "stdout",
     "output_type": "stream",
     "text": [
      "0.8170536828963796\n"
     ]
    }
   ],
   "source": [
    "#%% Decision Tree\n",
    "\n",
    "from sklearn.tree import DecisionTreeClassifier\n",
    "\n",
    "model_dt = DecisionTreeClassifier(criterion = 'entropy', max_depth = 3, min_samples_split = 2, min_samples_leaf = 1, random_state = 0)\n",
    "\n",
    "score = cross_val_score(model_dt, X_train_sc, y_train, cv = 10)\n",
    "\n",
    "print(np.mean(score))"
   ]
  },
  {
   "cell_type": "code",
   "execution_count": 17,
   "metadata": {},
   "outputs": [
    {
     "name": "stdout",
     "output_type": "stream",
     "text": [
      "0.8261048689138576\n"
     ]
    }
   ],
   "source": [
    "#%% Random Forest\n",
    "\n",
    "from sklearn.ensemble import RandomForestClassifier\n",
    "\n",
    "model_rf = RandomForestClassifier(criterion = 'entropy', n_estimators = 100, max_depth = 5, min_samples_split = 2, min_samples_leaf = 1, random_state = 0)\n",
    "\n",
    "score = cross_val_score(model_rf, X_train_sc, y_train, cv = 10)\n",
    "\n",
    "print(np.mean(score))"
   ]
  },
  {
   "cell_type": "code",
   "execution_count": 22,
   "metadata": {},
   "outputs": [
    {
     "name": "stderr",
     "output_type": "stream",
     "text": [
      "[I 2023-11-04 17:27:48,517] A new study created in memory with name: no-name-e5358d91-9782-4834-bfa4-3e9825fbb355\n",
      "[I 2023-11-04 17:28:00,372] Trial 0 finished with value: -0.8238701622971286 and parameters: {'criterion': 'gini', 'n_estimators': 643, 'max_depth': 12, 'min_samples_split': 5, 'min_samples_leaf': 7}. Best is trial 0 with value: -0.8238701622971286.\n",
      "[I 2023-11-04 17:28:18,021] Trial 1 finished with value: -0.8249937578027465 and parameters: {'criterion': 'gini', 'n_estimators': 968, 'max_depth': 9, 'min_samples_split': 9, 'min_samples_leaf': 6}. Best is trial 1 with value: -0.8249937578027465.\n",
      "[I 2023-11-04 17:28:21,211] Trial 2 finished with value: -0.8227091136079899 and parameters: {'criterion': 'gini', 'n_estimators': 164, 'max_depth': 4, 'min_samples_split': 2, 'min_samples_leaf': 9}. Best is trial 1 with value: -0.8249937578027465.\n",
      "[I 2023-11-04 17:28:39,130] Trial 3 finished with value: -0.8238576779026218 and parameters: {'criterion': 'gini', 'n_estimators': 981, 'max_depth': 17, 'min_samples_split': 6, 'min_samples_leaf': 8}. Best is trial 1 with value: -0.8249937578027465.\n",
      "[I 2023-11-04 17:28:43,557] Trial 4 finished with value: -0.8283520599250936 and parameters: {'criterion': 'gini', 'n_estimators': 229, 'max_depth': 20, 'min_samples_split': 6, 'min_samples_leaf': 5}. Best is trial 4 with value: -0.8283520599250936.\n",
      "[I 2023-11-04 17:28:53,024] Trial 5 finished with value: -0.8227465667915105 and parameters: {'criterion': 'gini', 'n_estimators': 510, 'max_depth': 13, 'min_samples_split': 2, 'min_samples_leaf': 7}. Best is trial 4 with value: -0.8283520599250936.\n",
      "[I 2023-11-04 17:29:10,525] Trial 6 finished with value: -0.8306117353308364 and parameters: {'criterion': 'gini', 'n_estimators': 950, 'max_depth': 15, 'min_samples_split': 5, 'min_samples_leaf': 5}. Best is trial 6 with value: -0.8306117353308364.\n",
      "[I 2023-11-04 17:29:23,694] Trial 7 finished with value: -0.8261048689138578 and parameters: {'criterion': 'entropy', 'n_estimators': 700, 'max_depth': 15, 'min_samples_split': 3, 'min_samples_leaf': 2}. Best is trial 6 with value: -0.8306117353308364.\n",
      "[I 2023-11-04 17:29:34,990] Trial 8 finished with value: -0.8328464419475656 and parameters: {'criterion': 'gini', 'n_estimators': 613, 'max_depth': 10, 'min_samples_split': 10, 'min_samples_leaf': 2}. Best is trial 8 with value: -0.8328464419475656.\n",
      "[I 2023-11-04 17:29:47,683] Trial 9 finished with value: -0.8272284644194757 and parameters: {'criterion': 'entropy', 'n_estimators': 688, 'max_depth': 7, 'min_samples_split': 6, 'min_samples_leaf': 3}. Best is trial 8 with value: -0.8328464419475656.\n",
      "[I 2023-11-04 17:29:54,806] Trial 10 finished with value: -0.8126092384519351 and parameters: {'criterion': 'entropy', 'n_estimators': 392, 'max_depth': 3, 'min_samples_split': 10, 'min_samples_leaf': 1}. Best is trial 8 with value: -0.8328464419475656.\n",
      "[I 2023-11-04 17:30:10,418] Trial 11 finished with value: -0.8261173533083644 and parameters: {'criterion': 'gini', 'n_estimators': 851, 'max_depth': 10, 'min_samples_split': 8, 'min_samples_leaf': 4}. Best is trial 8 with value: -0.8328464419475656.\n",
      "[I 2023-11-04 17:30:25,508] Trial 12 finished with value: -0.8272534332084893 and parameters: {'criterion': 'gini', 'n_estimators': 821, 'max_depth': 17, 'min_samples_split': 4, 'min_samples_leaf': 4}. Best is trial 8 with value: -0.8328464419475656.\n",
      "[I 2023-11-04 17:30:33,458] Trial 13 finished with value: -0.8238826466916354 and parameters: {'criterion': 'gini', 'n_estimators': 422, 'max_depth': 14, 'min_samples_split': 8, 'min_samples_leaf': 1}. Best is trial 8 with value: -0.8328464419475656.\n",
      "[I 2023-11-04 17:30:48,378] Trial 14 finished with value: -0.8182397003745319 and parameters: {'criterion': 'entropy', 'n_estimators': 821, 'max_depth': 7, 'min_samples_split': 8, 'min_samples_leaf': 10}. Best is trial 8 with value: -0.8328464419475656.\n",
      "[I 2023-11-04 17:30:54,062] Trial 15 finished with value: -0.8238701622971284 and parameters: {'criterion': 'gini', 'n_estimators': 301, 'max_depth': 10, 'min_samples_split': 4, 'min_samples_leaf': 3}. Best is trial 8 with value: -0.8328464419475656.\n",
      "[I 2023-11-04 17:31:03,816] Trial 16 finished with value: -0.8283645443196004 and parameters: {'criterion': 'gini', 'n_estimators': 527, 'max_depth': 16, 'min_samples_split': 10, 'min_samples_leaf': 5}. Best is trial 8 with value: -0.8328464419475656.\n",
      "[I 2023-11-04 17:31:15,099] Trial 17 finished with value: -0.8249812734082397 and parameters: {'criterion': 'gini', 'n_estimators': 608, 'max_depth': 20, 'min_samples_split': 7, 'min_samples_leaf': 3}. Best is trial 8 with value: -0.8328464419475656.\n",
      "[I 2023-11-04 17:31:28,799] Trial 18 finished with value: -0.82832709113608 and parameters: {'criterion': 'entropy', 'n_estimators': 745, 'max_depth': 7, 'min_samples_split': 5, 'min_samples_leaf': 2}. Best is trial 8 with value: -0.8328464419475656.\n",
      "[I 2023-11-04 17:31:45,366] Trial 19 finished with value: -0.8328589263420725 and parameters: {'criterion': 'gini', 'n_estimators': 905, 'max_depth': 12, 'min_samples_split': 7, 'min_samples_leaf': 6}. Best is trial 19 with value: -0.8328589263420725.\n",
      "[I 2023-11-04 17:31:53,548] Trial 20 finished with value: -0.8238701622971286 and parameters: {'criterion': 'gini', 'n_estimators': 444, 'max_depth': 11, 'min_samples_split': 9, 'min_samples_leaf': 7}. Best is trial 19 with value: -0.8328589263420725.\n",
      "[I 2023-11-04 17:32:09,903] Trial 21 finished with value: -0.8272409488139825 and parameters: {'criterion': 'gini', 'n_estimators': 891, 'max_depth': 13, 'min_samples_split': 7, 'min_samples_leaf': 5}. Best is trial 19 with value: -0.8328589263420725.\n",
      "[I 2023-11-04 17:32:27,303] Trial 22 finished with value: -0.8261173533083644 and parameters: {'criterion': 'gini', 'n_estimators': 954, 'max_depth': 9, 'min_samples_split': 5, 'min_samples_leaf': 6}. Best is trial 19 with value: -0.8328589263420725.\n",
      "[I 2023-11-04 17:32:41,430] Trial 23 finished with value: -0.8283770287141075 and parameters: {'criterion': 'gini', 'n_estimators': 771, 'max_depth': 18, 'min_samples_split': 7, 'min_samples_leaf': 4}. Best is trial 19 with value: -0.8328589263420725.\n",
      "[I 2023-11-04 17:32:57,599] Trial 24 finished with value: -0.8227340823970037 and parameters: {'criterion': 'gini', 'n_estimators': 893, 'max_depth': 14, 'min_samples_split': 4, 'min_samples_leaf': 8}. Best is trial 19 with value: -0.8328589263420725.\n",
      "[I 2023-11-04 17:33:08,801] Trial 25 finished with value: -0.8272409488139825 and parameters: {'criterion': 'gini', 'n_estimators': 608, 'max_depth': 12, 'min_samples_split': 9, 'min_samples_leaf': 6}. Best is trial 19 with value: -0.8328589263420725.\n",
      "[I 2023-11-04 17:33:25,338] Trial 26 finished with value: -0.8317228464419475 and parameters: {'criterion': 'entropy', 'n_estimators': 889, 'max_depth': 15, 'min_samples_split': 10, 'min_samples_leaf': 2}. Best is trial 19 with value: -0.8328589263420725.\n",
      "[I 2023-11-04 17:33:39,202] Trial 27 finished with value: -0.8261173533083646 and parameters: {'criterion': 'entropy', 'n_estimators': 758, 'max_depth': 8, 'min_samples_split': 10, 'min_samples_leaf': 2}. Best is trial 19 with value: -0.8328589263420725.\n",
      "[I 2023-11-04 17:33:55,427] Trial 28 finished with value: -0.8316978776529338 and parameters: {'criterion': 'entropy', 'n_estimators': 897, 'max_depth': 5, 'min_samples_split': 9, 'min_samples_leaf': 1}. Best is trial 19 with value: -0.8328589263420725.\n",
      "[I 2023-11-04 17:34:07,920] Trial 29 finished with value: -0.8261048689138576 and parameters: {'criterion': 'entropy', 'n_estimators': 671, 'max_depth': 12, 'min_samples_split': 10, 'min_samples_leaf': 2}. Best is trial 19 with value: -0.8328589263420725.\n"
     ]
    },
    {
     "name": "stdout",
     "output_type": "stream",
     "text": [
      "Melhores parâmetros encontrados: {'criterion': 'gini', 'n_estimators': 905, 'max_depth': 12, 'min_samples_split': 7, 'min_samples_leaf': 6}\n"
     ]
    }
   ],
   "source": [
    "def objective(trial):\n",
    "    # Define os espaços de busca para os parâmetros\n",
    "    criterion = trial.suggest_categorical('criterion', ['entropy', 'gini'])\n",
    "    n_estimators = trial.suggest_int('n_estimators', 100, 1000)\n",
    "    max_depth = trial.suggest_int('max_depth', 3, 20)\n",
    "    min_samples_split = trial.suggest_int('min_samples_split', 2, 10)\n",
    "    min_samples_leaf = trial.suggest_int('min_samples_leaf', 1, 10)\n",
    "\n",
    "    # Cria o modelo com os parâmetros sugeridos\n",
    "    model_rf = RandomForestClassifier(\n",
    "        criterion=criterion,\n",
    "        n_estimators=n_estimators,\n",
    "        max_depth=max_depth,\n",
    "        min_samples_split=min_samples_split,\n",
    "        min_samples_leaf=min_samples_leaf,\n",
    "        random_state=0,\n",
    "        n_jobs=-1\n",
    "    )\n",
    "\n",
    "    # Avalia o modelo usando validação cruzada\n",
    "    score = cross_val_score(model_rf, X_train_sc, y_train, cv=10)\n",
    "    mean_score = np.mean(score)\n",
    "\n",
    "    return -mean_score\n",
    "\n",
    "study = optuna.create_study(direction='minimize', sampler=optuna.samplers.TPESampler(seed=0))\n",
    "study.optimize(objective, n_trials=30)\n",
    "\n",
    "# Obtém os melhores parâmetros encontrados\n",
    "best_params = study.best_params\n",
    "print(\"Melhores parâmetros encontrados:\", best_params)"
   ]
  },
  {
   "cell_type": "code",
   "execution_count": 23,
   "metadata": {},
   "outputs": [
    {
     "name": "stdout",
     "output_type": "stream",
     "text": [
      "0.8294257178526842\n"
     ]
    }
   ],
   "source": [
    "#%% Ensanble model (Voting)\n",
    "from sklearn.ensemble import VotingClassifier\n",
    "\n",
    "model_voting = VotingClassifier(estimators = [('LR', model_lr), ('KNN', model_knn), ('SVC', model_svc), ('RF', model_rf)], voting = 'hard')\n",
    "\n",
    "model_voting.fit(X_train_sc, y_train)\n",
    "\n",
    "score = cross_val_score(model_voting, X_train_sc, y_train, cv = 10)\n",
    "\n",
    "print(np.mean(score))"
   ]
  },
  {
   "cell_type": "code",
   "execution_count": 25,
   "metadata": {},
   "outputs": [
    {
     "name": "stdout",
     "output_type": "stream",
     "text": [
      "[[520  29]\n",
      " [ 91 251]]\n",
      "0.8653198653198653\n"
     ]
    }
   ],
   "source": [
    "# Modelo Final\n",
    "model_rf = RandomForestClassifier(\n",
    "    criterion=best_params['criterion'],\n",
    "    n_estimators=best_params['n_estimators'],\n",
    "    max_depth=best_params['max_depth'],\n",
    "    min_samples_split=best_params['min_samples_split'],\n",
    "    min_samples_leaf=best_params['min_samples_leaf'],\n",
    "    random_state=0,\n",
    "    n_jobs=-1\n",
    ")\n",
    "  \n",
    "model_rf.fit(X_train_sc, y_train)\n",
    "\n",
    "y_pred = model_rf.predict(X_train_sc)\n",
    "\n",
    "mc = confusion_matrix(y_train, y_pred) \n",
    "print(mc)\n",
    "\n",
    "score = model_rf.score(X_train_sc, y_train)\n",
    "print(score)\n",
    "\n",
    "#%% predição nos dados de teste\n",
    "\n",
    "y_pred = model_voting.predict(X_test_sc)\n",
    "\n",
    "submission = pd.DataFrame(test['PassengerId'])\n",
    "\n",
    "submission['Survived'] = y_pred\n",
    "\n",
    "submission.to_csv('submission5.csv', index = False)"
   ]
  }
 ],
 "metadata": {
  "kernelspec": {
   "display_name": "Python 3",
   "language": "python",
   "name": "python3"
  },
  "language_info": {
   "codemirror_mode": {
    "name": "ipython",
    "version": 3
   },
   "file_extension": ".py",
   "mimetype": "text/x-python",
   "name": "python",
   "nbconvert_exporter": "python",
   "pygments_lexer": "ipython3",
   "version": "3.10.8"
  }
 },
 "nbformat": 4,
 "nbformat_minor": 2
}
